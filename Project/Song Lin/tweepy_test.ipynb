{
 "cells": [
  {
   "cell_type": "code",
   "execution_count": 11,
   "metadata": {},
   "outputs": [],
   "source": [
    "import tweepy\n",
    "\n",
    "bearer_token = \"AAAAAAAAAAAAAAAAAAAAAMgmmgEAAAAAe23%2BhrOGPPoUchPymUlG2o6yRqQ%3D79AZsdXiyN1C0f3QCRiwDonIAqWIunJSmY9Ce7kjciwlQaaJ4c\"\n",
    "\n",
    "API_KEY = \"xUzeP0cM2EQpzXtfc6p5Cdn3U\"\n",
    "API_SECRET_KEY = \"8kr9rCSdNa1tQXOrcZp83igjp1Us4ku2MAUmGbGNV9BESEXSul\"\n",
    "ACCESS_TOKEN = \"1643372708930129921-PDNyDI1L1BkIMInIONCDzLaZHqswTb\"\n",
    "ACCESS_TOKEN_SECRET = \"5TI6zsahJGT1IF3W6ZVuJCUM15Igxsa1So9pfIbmz3Et7\"\n",
    "\n",
    "auth = tweepy.OAuth1UserHandler(\n",
    "  API_KEY, \n",
    "  API_SECRET_KEY, \n",
    "  ACCESS_TOKEN, \n",
    "  ACCESS_TOKEN_SECRET\n",
    ")\n",
    "\n",
    "api = tweepy.API(auth)"
   ]
  },
  {
   "cell_type": "code",
   "execution_count": 12,
   "metadata": {},
   "outputs": [],
   "source": [
    "me = api.verify_credentials()"
   ]
  },
  {
   "cell_type": "code",
   "execution_count": 13,
   "metadata": {},
   "outputs": [
    {
     "data": {
      "text/plain": [
       "User(_api=<tweepy.api.API object at 0x10bd48bd0>, _json={'id': 1643372708930129921, 'id_str': '1643372708930129921', 'name': 'Song Lin', 'screen_name': 'SongLin2202', 'location': '', 'description': '', 'url': None, 'entities': {'description': {'urls': []}}, 'protected': False, 'followers_count': 0, 'friends_count': 1, 'listed_count': 0, 'created_at': 'Tue Apr 04 21:59:30 +0000 2023', 'favourites_count': 0, 'utc_offset': None, 'time_zone': None, 'geo_enabled': False, 'verified': False, 'statuses_count': 1, 'lang': None, 'status': {'created_at': 'Thu Apr 06 05:03:43 +0000 2023', 'id': 1643841896677277696, 'id_str': '1643841896677277696', 'text': 'test', 'truncated': False, 'entities': {'hashtags': [], 'symbols': [], 'user_mentions': [], 'urls': []}, 'source': '<a href=\"https://mobile.twitter.com\" rel=\"nofollow\">Twitter Web App</a>', 'in_reply_to_status_id': None, 'in_reply_to_status_id_str': None, 'in_reply_to_user_id': None, 'in_reply_to_user_id_str': None, 'in_reply_to_screen_name': None, 'geo': None, 'coordinates': None, 'place': None, 'contributors': None, 'is_quote_status': False, 'retweet_count': 0, 'favorite_count': 0, 'favorited': False, 'retweeted': False, 'lang': 'en'}, 'contributors_enabled': False, 'is_translator': False, 'is_translation_enabled': False, 'profile_background_color': 'F5F8FA', 'profile_background_image_url': None, 'profile_background_image_url_https': None, 'profile_background_tile': False, 'profile_image_url': 'http://abs.twimg.com/sticky/default_profile_images/default_profile_normal.png', 'profile_image_url_https': 'https://abs.twimg.com/sticky/default_profile_images/default_profile_normal.png', 'profile_link_color': '1DA1F2', 'profile_sidebar_border_color': 'C0DEED', 'profile_sidebar_fill_color': 'DDEEF6', 'profile_text_color': '333333', 'profile_use_background_image': True, 'has_extended_profile': True, 'default_profile': True, 'default_profile_image': True, 'following': False, 'follow_request_sent': False, 'notifications': False, 'translator_type': 'none', 'withheld_in_countries': [], 'suspended': False, 'needs_phone_verification': False}, id=1643372708930129921, id_str='1643372708930129921', name='Song Lin', screen_name='SongLin2202', location='', description='', url=None, entities={'description': {'urls': []}}, protected=False, followers_count=0, friends_count=1, listed_count=0, created_at=datetime.datetime(2023, 4, 4, 21, 59, 30, tzinfo=datetime.timezone.utc), favourites_count=0, utc_offset=None, time_zone=None, geo_enabled=False, verified=False, statuses_count=1, lang=None, status=Status(_api=<tweepy.api.API object at 0x10bd48bd0>, _json={'created_at': 'Thu Apr 06 05:03:43 +0000 2023', 'id': 1643841896677277696, 'id_str': '1643841896677277696', 'text': 'test', 'truncated': False, 'entities': {'hashtags': [], 'symbols': [], 'user_mentions': [], 'urls': []}, 'source': '<a href=\"https://mobile.twitter.com\" rel=\"nofollow\">Twitter Web App</a>', 'in_reply_to_status_id': None, 'in_reply_to_status_id_str': None, 'in_reply_to_user_id': None, 'in_reply_to_user_id_str': None, 'in_reply_to_screen_name': None, 'geo': None, 'coordinates': None, 'place': None, 'contributors': None, 'is_quote_status': False, 'retweet_count': 0, 'favorite_count': 0, 'favorited': False, 'retweeted': False, 'lang': 'en'}, created_at=datetime.datetime(2023, 4, 6, 5, 3, 43, tzinfo=datetime.timezone.utc), id=1643841896677277696, id_str='1643841896677277696', text='test', truncated=False, entities={'hashtags': [], 'symbols': [], 'user_mentions': [], 'urls': []}, source='Twitter Web App', source_url='https://mobile.twitter.com', in_reply_to_status_id=None, in_reply_to_status_id_str=None, in_reply_to_user_id=None, in_reply_to_user_id_str=None, in_reply_to_screen_name=None, geo=None, coordinates=None, place=None, contributors=None, is_quote_status=False, retweet_count=0, favorite_count=0, favorited=False, retweeted=False, lang='en'), contributors_enabled=False, is_translator=False, is_translation_enabled=False, profile_background_color='F5F8FA', profile_background_image_url=None, profile_background_image_url_https=None, profile_background_tile=False, profile_image_url='http://abs.twimg.com/sticky/default_profile_images/default_profile_normal.png', profile_image_url_https='https://abs.twimg.com/sticky/default_profile_images/default_profile_normal.png', profile_link_color='1DA1F2', profile_sidebar_border_color='C0DEED', profile_sidebar_fill_color='DDEEF6', profile_text_color='333333', profile_use_background_image=True, has_extended_profile=True, default_profile=True, default_profile_image=True, following=False, follow_request_sent=False, notifications=False, translator_type='none', withheld_in_countries=[], suspended=False, needs_phone_verification=False)"
      ]
     },
     "execution_count": 13,
     "metadata": {},
     "output_type": "execute_result"
    }
   ],
   "source": [
    "me"
   ]
  },
  {
   "cell_type": "code",
   "execution_count": 16,
   "metadata": {},
   "outputs": [
    {
     "name": "stdout",
     "output_type": "stream",
     "text": [
      "#Games are ranked by the number of #players on #Steam currently. 🙍🏆\n",
      "\n",
      "#gameDevCommunityGifts #gaminglife \n",
      "#developercommunitygames #Tweepy \n",
      "#SteamChartsTrending #esports \n",
      "\n",
      "https://t.co/DQIdMssElo \n",
      "\n",
      "If you have ideas to improve the tweets let me know!✨\n",
      "=====\n",
      "The twitter API keys used by the client I use for my automated tweets ( @nz_quake , etc) just broke.\n",
      "\n",
      "Looking for a nice command-line twitter client with oauth v2 built in (I have keys) . Or alternatively I have to get my head around using tweepy directly\n",
      "\n",
      "https://t.co/Fn7jBBAZMe\n",
      "=====\n",
      "@barbaratruc @aaron_loupatty @JMB_NL @BNR Heb zelf eens met mn Twitter-developers-account en Python / Tweepy geëxperimenteerd maar als ik nu de prijzen zo zie, laat verder maar.... https://t.co/pOqxVFkxrq\n",
      "=====\n",
      "【Python学習】Twitter API v2をつかって自動投稿 (tweepy利用) - 自動車エンジニアのアップデート\n",
      "https://t.co/jnxOCCLyL4\n",
      "\n",
      "twitter API v2になってからは、\n",
      "tweepy.API()ではなくtweepy.Client()を使用することで対応できるようです。\n",
      "=====\n",
      "@aaron_loupatty @JMB_NL @BNR Ik heb weleens wat gedaan met API via tweepy, is echt niet zo moeilijk. Je bent als serieus mediabedrijf heus wel in staat daar gewoon zelf iets voor te schrijven. \n",
      "\n",
      "Begin alvast maar met een dev account aan te vragen.\n",
      "=====\n",
      "@SizweDhlomo WRONG!\n",
      "Twitter doesn't use JavaScript they use Java instead. Btw for the delete ENDPOINT, it's Python, they use. A handler import called tweepy. \n",
      "With of course their in-house build Twitter API.\n",
      "=====\n",
      "This Tweet was Tweeted using Tweepy and Twitter API v2!\n",
      "=====\n",
      "【Python学習】Twitter API v2をつかって自動投稿 (tweepy利用) - 自動車エンジニアのアップデート\n",
      "https://t.co/jnxOCCLyL4\n",
      "\n",
      "twitter API v2になってからは、\n",
      "tweepy.API()ではなくtweepy.Client()を使用することで対応できるようです。\n",
      "=====\n",
      "@paulgp @eugen_dimant @leah_boustan @kevinrinz @nberpubs @causalinf twitter2stata 📦 is the best way I know to get tweets directly into @Stata. Unfortunately it’s quite limited, and doesn’t seem maintained the way that R-based stuff is. I’ve switched to using tweepy in python since I’ve still not learned #rstats. https://t.co/NANMftaGPy\n",
      "=====\n",
      "Happy Hump Day my Tweepy friends!!! \n",
      "\n",
      "Whatever you do today make it great, and kick ass. Cuz white progressive women will make it miserable. https://t.co/I2wa0P0UsK\n",
      "=====\n",
      "【Python学習】Twitter API v2をつかって自動投稿 (tweepy利用) - 自動車エンジニアのアップデート\n",
      "https://t.co/jnxOCCLyL4\n",
      "\n",
      "twitter API v2になってからは、\n",
      "tweepy.API()ではなくtweepy.Client()を使用することで対応できるようです。\n",
      "=====\n",
      "このtweepyってらいぶらり～がTwitterAPIv2に対応してるのか調べたら完成か？\n",
      "=====\n",
      "Secretos del desierto #NationalGeographic #Fotodeldia #Python #Tweepy https://t.co/2wbQeLr4mJ\n",
      "=====\n",
      "2月に開発した tweepy-authlib (スクレイピングでログインして TweetDeck など内部的に使われている Twitter API v1.1 を叩く) の出番がやって来たらしい　はぁ……（クソデカため息）\n",
      "https://t.co/9XhFpLf4Qs\n",
      "=====\n"
     ]
    }
   ],
   "source": [
    "import tweepy\n",
    "\n",
    "\n",
    "API_KEY = \"xUzeP0cM2EQpzXtfc6p5Cdn3U\"\n",
    "API_SECRET_KEY = \"8kr9rCSdNa1tQXOrcZp83igjp1Us4ku2MAUmGbGNV9BESEXSul\"\n",
    "ACCESS_TOKEN = \"1643372708930129921-PDNyDI1L1BkIMInIONCDzLaZHqswTb\"\n",
    "ACCESS_TOKEN_SECRET = \"5TI6zsahJGT1IF3W6ZVuJCUM15Igxsa1So9pfIbmz3Et7\"\n",
    "\n",
    "auth = tweepy.OAuth1UserHandler(\n",
    "  API_KEY, \n",
    "  API_SECRET_KEY, \n",
    "  ACCESS_TOKEN, \n",
    "  ACCESS_TOKEN_SECRET\n",
    ")\n",
    "\n",
    "api = tweepy.API(auth)\n",
    "\n",
    "tweets = api.search_tweets(\"tweepy\", tweet_mode=\"extended\")\n",
    "\n",
    "for tweet in tweets:\n",
    "    try:\n",
    "        print(tweet.retweeted_status.full_text)\n",
    "        print(\"=====\")\n",
    "    except AttributeError:\n",
    "        print(tweet.full_text)\n",
    "        print(\"=====\")"
   ]
  },
  {
   "cell_type": "code",
   "execution_count": 6,
   "metadata": {},
   "outputs": [],
   "source": [
    "import re\n",
    "import pandas as pd\n",
    "import tweepy\n",
    "\n",
    "API_KEY = \"xUzeP0cM2EQpzXtfc6p5Cdn3U\"\n",
    "API_SECRET_KEY = \"8kr9rCSdNa1tQXOrcZp83igjp1Us4ku2MAUmGbGNV9BESEXSul\"\n",
    "ACCESS_TOKEN = \"1643372708930129921-PDNyDI1L1BkIMInIONCDzLaZHqswTb\"\n",
    "ACCESS_TOKEN_SECRET = \"5TI6zsahJGT1IF3W6ZVuJCUM15Igxsa1So9pfIbmz3Et7\"\n",
    "\n",
    "auth = tweepy.OAuth1UserHandler(\n",
    "  API_KEY, \n",
    "  API_SECRET_KEY, \n",
    "  ACCESS_TOKEN, \n",
    "  ACCESS_TOKEN_SECRET\n",
    ")\n",
    "\n",
    "api = tweepy.API(auth)\n",
    "\n",
    "# Define keywords related to fake news\n",
    "keywords = ['#news'] #[\"fake news\", \"misinformation\", \"disinformation\", \"hoax\"]\n",
    "\n",
    "# Use the Twitter API to search for tweets containing the keywords\n",
    "tweets = []\n",
    "for keyword in keywords:\n",
    "    results = api.search_tweets(keyword, tweet_mode=\"extended\")\n",
    "    tweets.extend(results)\n",
    "\n",
    "\n",
    "def preprocess_text(text):\n",
    "    # Convert to lowercase\n",
    "    text = text.lower()\n",
    "    \n",
    "    # Remove punctuation and non-alphabetic characters\n",
    "    #text = re.sub(r\"[^a-zA-Z\\s]\", \"\", text)\n",
    "    return text\n",
    "\n",
    "# Extract the full text of each tweet and preprocess the text\n",
    "texts = []\n",
    "for tweet in tweets:\n",
    "    try:\n",
    "        text = tweet.retweeted_status.full_text\n",
    "    except AttributeError:\n",
    "        text = tweet.full_text\n",
    "    preprocessed_text = preprocess_text(text)\n",
    "    texts.append(preprocessed_text)\n",
    "\n",
    "# Save the preprocessed texts to a CSV file\n",
    "data = pd.DataFrame({\"text\": texts})\n",
    "data.to_csv(\"fake_news_data.csv\", index=False)\n"
   ]
  }
 ],
 "metadata": {
  "kernelspec": {
   "display_name": "gt",
   "language": "python",
   "name": "python3"
  },
  "language_info": {
   "codemirror_mode": {
    "name": "ipython",
    "version": 3
   },
   "file_extension": ".py",
   "mimetype": "text/x-python",
   "name": "python",
   "nbconvert_exporter": "python",
   "pygments_lexer": "ipython3",
   "version": "3.11.0"
  },
  "orig_nbformat": 4
 },
 "nbformat": 4,
 "nbformat_minor": 2
}
