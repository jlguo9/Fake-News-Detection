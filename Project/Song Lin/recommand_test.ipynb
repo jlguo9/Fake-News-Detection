{
 "cells": [
  {
   "cell_type": "code",
   "execution_count": 27,
   "metadata": {},
   "outputs": [
    {
     "name": "stdout",
     "output_type": "stream",
     "text": [
      "                                         source  \\\n",
      "0                                  blog-posting   \n",
      "1                                  blog-posting   \n",
      "2                                  blog-posting   \n",
      "3                                  blog-posting   \n",
      "4   national-republican-congressional-committee   \n",
      "..                                          ...   \n",
      "95                        oregon-right-life-pac   \n",
      "96                                rush-limbaugh   \n",
      "97                              stephen-sweeney   \n",
      "98                                  marco-rubio   \n",
      "99                                 robert-gibbs   \n",
      "\n",
      "                                         target  \\\n",
      "0   national-republican-congressional-committee   \n",
      "1                                jeanne-shaheen   \n",
      "2                                 armond-budish   \n",
      "3                          americans-tax-reform   \n",
      "4                                  blog-posting   \n",
      "..                                          ...   \n",
      "95                       government-not-god-pac   \n",
      "96                              stephen-sweeney   \n",
      "97                                rush-limbaugh   \n",
      "98                                 robert-gibbs   \n",
      "99                                  marco-rubio   \n",
      "\n",
      "                                   context  \n",
      "0                           a news release  \n",
      "1                           a news release  \n",
      "2                           a news release  \n",
      "3                           a news release  \n",
      "4                           a news release  \n",
      "..                                     ...  \n",
      "95                          a newspaper ad  \n",
      "96                       a radio interview  \n",
      "97                       a radio interview  \n",
      "98  an interview on NBC's \"Meet the Press\"  \n",
      "99  an interview on NBC's \"Meet the Press\"  \n",
      "\n",
      "[100 rows x 3 columns]\n"
     ]
    }
   ],
   "source": [
    "import pandas as pd\n",
    "\n",
    "# Load and preprocess the LIAR dataset\n",
    "data_all = pd.read_csv(\"liar_data.csv\")\n",
    "data = data_all.head(200)\n",
    "# Initialize a list to store edge data\n",
    "edge_data_list = []\n",
    "\n",
    "# Add edge data to the list for each pair of speakers who appear in the same context\n",
    "contexts = data['context'].unique()\n",
    "for context in contexts:\n",
    "    speakers_in_context = data.loc[data['context'] == context]['speaker'].unique()\n",
    "    for speaker1 in speakers_in_context:\n",
    "        for speaker2 in speakers_in_context:\n",
    "            if speaker1 != speaker2:\n",
    "                edge_data_list.append({'source': speaker1, 'target': speaker2, 'context': context})\n",
    "\n",
    "# Create the DataFrame from the list of dictionaries\n",
    "edge_data = pd.DataFrame(edge_data_list)\n",
    "\n",
    "# Display the DataFrame\n",
    "print(edge_data)\n",
    "\n"
   ]
  }
 ],
 "metadata": {
  "kernelspec": {
   "display_name": "gt",
   "language": "python",
   "name": "python3"
  },
  "language_info": {
   "codemirror_mode": {
    "name": "ipython",
    "version": 3
   },
   "file_extension": ".py",
   "mimetype": "text/x-python",
   "name": "python",
   "nbconvert_exporter": "python",
   "pygments_lexer": "ipython3",
   "version": "3.10.10"
  },
  "orig_nbformat": 4
 },
 "nbformat": 4,
 "nbformat_minor": 2
}
